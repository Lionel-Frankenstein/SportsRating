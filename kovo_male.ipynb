{
 "cells": [
  {
   "cell_type": "code",
   "execution_count": null,
   "metadata": {},
   "outputs": [],
   "source": [
    "import requests\n",
    "import csv\n",
    "import re\n",
    "from bs4 import BeautifulSoup"
   ]
  },
  {
   "cell_type": "code",
   "execution_count": null,
   "metadata": {},
   "outputs": [],
   "source": [
    "f = open(\"kovo-male.csv\",\"w\", encoding=\"utf-8-sig\")\n",
    "writer = csv.writer(f)"
   ]
  },
  {
   "cell_type": "code",
   "execution_count": null,
   "metadata": {},
   "outputs": [],
   "source": [
    "ratings = {}\n",
    "k = 28\n",
    "home_advantage = 22"
   ]
  },
  {
   "cell_type": "code",
   "execution_count": null,
   "metadata": {},
   "outputs": [],
   "source": [
    "ratings['현대캐피탈'] = 1500\n",
    "ratings['삼성화재'] = 1500\n",
    "ratings['KB손해보험'] = 1500\n",
    "ratings['한국전력'] = 1500\n",
    "ratings['대한항공'] = 1500\n",
    "ratings['상무'] = 1500\n",
    "ratings['우리카드'] = 1500\n",
    "ratings['OK금융그룹'] = 1500"
   ]
  },
  {
   "cell_type": "code",
   "execution_count": null,
   "metadata": {},
   "outputs": [],
   "source": [
    "for season in range(11,19):\n",
    "    if season <10:\n",
    "        season = \"0\"+str(season)\n",
    "    for game_number in range(1,300):\n",
    "        url = \"https://www.kovo.co.kr/game/v-league/11141_game-summary.asp?season=0\"+str(season)+\"&g_part=201&r_round=1&g_num=\"+str(game_number)+\"&\"\n",
    "        res = requests.get(url)\n",
    "        print(url)\n",
    "        soup = BeautifulSoup(res.text,\"lxml\")\n",
    "        team_names = soup.find_all(\"span\",attrs={\"class\":\"team\"}) #팀 이름을 리스트로 가져옴\n",
    "        if team_names == []:\n",
    "            for key in ratings:\n",
    "                if ratings[key] != 0:\n",
    "                    ratings[key] = ratings[key]+(1500-ratings[key])/2\n",
    "            break\n",
    "        home_team_name = team_names[0].get_text()\n",
    "        away_team_name = team_names[1].get_text()\n",
    "        if home_team_name == \"도로공사\":\n",
    "            home_team_name = \"한국도로공사\"\n",
    "        if away_team_name == \"도로공사\":\n",
    "            away_team_name = \"한국도로공사\"\n",
    "        if home_team_name == \"KT&G\":\n",
    "            home_team_name = \"KGC인삼공사\"\n",
    "        if away_team_name == \"KT&G\":\n",
    "            away_team_name = \"KGC인삼공사\"\n",
    "        if home_team_name == \"인삼공사\":\n",
    "            home_team_name = \"KGC인삼공사\"\n",
    "        if away_team_name == \"인삼공사\":\n",
    "            away_team_name = \"KGC인삼공사\"\n",
    "        if home_team_name == \"LG화재\":\n",
    "            home_team_name = \"KB손해보험\"\n",
    "        if away_team_name == \"LG화재\":\n",
    "            away_team_name = \"KB손해보험\"\n",
    "        if home_team_name == \"LIG\":\n",
    "            home_team_name = \"KB손해보험\"\n",
    "        if away_team_name == \"LIG\":\n",
    "            away_team_name = \"KB손해보험\"\n",
    "        if home_team_name == \"LIG손해보험\":\n",
    "            home_team_name = \"KB손해보험\"\n",
    "        if away_team_name == \"LIG손해보험\":\n",
    "            away_team_name = \"KB손해보험\"\n",
    "        if home_team_name == \"KEPCO45\":\n",
    "            home_team_name = \"한국전력\"\n",
    "        if away_team_name == \"KEPCO45\":\n",
    "            away_team_name = \"한국전력\"\n",
    "        if home_team_name == \"KEPCO\":\n",
    "            home_team_name = \"한국전력\"\n",
    "        if away_team_name == \"KEPCO\":\n",
    "            away_team_name = \"한국전력\"\n",
    "        if home_team_name == \"신협상무\":\n",
    "            home_team_name = \"상무\"\n",
    "        if away_team_name == \"신협상무\":\n",
    "            away_team_name = \"상무\"\n",
    "        if home_team_name == \"우리캐피탈\":\n",
    "            home_team_name = \"우리카드\"\n",
    "        if away_team_name == \"우리캐피탈\":\n",
    "            away_team_name = \"우리카드\"\n",
    "        if home_team_name == \"상무신협\":\n",
    "            home_team_name = \"상무\"\n",
    "        if away_team_name == \"상무신협\":\n",
    "            away_team_name = \"상무\"\n",
    "        if home_team_name == \"드림식스\":\n",
    "            home_team_name = \"우리카드\"\n",
    "        if away_team_name == \"드림식스\":\n",
    "            away_team_name = \"우리카드\"\n",
    "        if home_team_name == \"러시앤캐시\":\n",
    "            home_team_name = \"OK금융그룹\"\n",
    "        if away_team_name == \"러시앤캐시\":\n",
    "            away_team_name = \"OK금융그룹\"\n",
    "        if home_team_name == \"OK저축은행\":\n",
    "            home_team_name = \"OK금융그룹\"\n",
    "        if away_team_name == \"OK저축은행\":\n",
    "            away_team_name = \"OK금융그룹\"\n",
    "        if home_team_name not in ratings:\n",
    "            print(home_team_name)\n",
    "            continue\n",
    "        if away_team_name not in ratings:\n",
    "            print(away_team_name)\n",
    "            continue\n",
    "        results = soup.find_all(\"p\",attrs={\"class\":re.compile(\"^result\")}) #승패 결과를 리스트로 가져옴\n",
    "        points = soup.find_all(\"p\",attrs={\"class\":\"num\"}) #세트 스코어를 리스트로 가져옴\n",
    "        if points == []:\n",
    "            break\n",
    "        if season == 18:\n",
    "            if points[0].get_text() == points[1].get_text():\n",
    "                break\n",
    "        expected_score = 1/(1+10**((ratings[away_team_name]-ratings[home_team_name]-home_advantage)/400))\n",
    "        if int(points[0].get_text()) > int(points[1].get_text()):\n",
    "            ratings[home_team_name] = ratings[home_team_name]+k*(1-expected_score)\n",
    "            ratings[away_team_name] = ratings[away_team_name]-k*(1-expected_score)\n",
    "        else:\n",
    "            ratings[home_team_name] = ratings[home_team_name]+k*(0-expected_score)\n",
    "            ratings[away_team_name] = ratings[away_team_name]-k*(0-expected_score)"
   ]
  }
 ],
 "metadata": {
  "interpreter": {
   "hash": "31f2aee4e71d21fbe5cf8b01ff0e069b9275f58929596ceb00d14d90e3e16cd6"
  },
  "kernelspec": {
   "display_name": "Python 3.8.9 64-bit",
   "language": "python",
   "name": "python3"
  },
  "language_info": {
   "codemirror_mode": {
    "name": "ipython",
    "version": 3
   },
   "file_extension": ".py",
   "mimetype": "text/x-python",
   "name": "python",
   "nbconvert_exporter": "python",
   "pygments_lexer": "ipython3",
   "version": "3.8.9"
  },
  "orig_nbformat": 4
 },
 "nbformat": 4,
 "nbformat_minor": 2
}
